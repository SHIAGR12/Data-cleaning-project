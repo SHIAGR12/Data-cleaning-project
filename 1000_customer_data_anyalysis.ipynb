{
  "nbformat": 4,
  "nbformat_minor": 0,
  "metadata": {
    "colab": {
      "provenance": [],
      "authorship_tag": "ABX9TyNq+7evcxSsTrGqwAhQDBN6",
      "include_colab_link": true
    },
    "kernelspec": {
      "name": "python3",
      "display_name": "Python 3"
    },
    "language_info": {
      "name": "python"
    }
  },
  "cells": [
    {
      "cell_type": "markdown",
      "metadata": {
        "id": "view-in-github",
        "colab_type": "text"
      },
      "source": [
        "<a href=\"https://colab.research.google.com/github/SHIAGR12/Data-cleaning-project/blob/main/1000_customer_data_anyalysis.ipynb\" target=\"_parent\"><img src=\"https://colab.research.google.com/assets/colab-badge.svg\" alt=\"Open In Colab\"/></a>"
      ]
    },
    {
      "cell_type": "code",
      "execution_count": null,
      "metadata": {
        "id": "XSa3p3LdB0JC"
      },
      "outputs": [],
      "source": [
        "import pandas as pd\n",
        "import numpy as np\n",
        "\n"
      ]
    },
    {
      "cell_type": "code",
      "source": [
        "# Load the data\n",
        "df = pd.read_csv('customers-1000.csv')"
      ],
      "metadata": {
        "id": "780AojZhCLPP"
      },
      "execution_count": null,
      "outputs": []
    },
    {
      "cell_type": "code",
      "source": [
        "df.info()"
      ],
      "metadata": {
        "colab": {
          "base_uri": "https://localhost:8080/"
        },
        "id": "j1rA5cBeCXPO",
        "outputId": "b6730633-b4af-4d20-b653-1adcc5db32dd"
      },
      "execution_count": null,
      "outputs": [
        {
          "output_type": "stream",
          "name": "stdout",
          "text": [
            "<class 'pandas.core.frame.DataFrame'>\n",
            "RangeIndex: 1000 entries, 0 to 999\n",
            "Data columns (total 12 columns):\n",
            " #   Column             Non-Null Count  Dtype \n",
            "---  ------             --------------  ----- \n",
            " 0   Index              1000 non-null   int64 \n",
            " 1   Customer Id        1000 non-null   object\n",
            " 2   First Name         1000 non-null   object\n",
            " 3   Last Name          1000 non-null   object\n",
            " 4   Company            1000 non-null   object\n",
            " 5   City               1000 non-null   object\n",
            " 6   Country            1000 non-null   object\n",
            " 7   Phone 1            1000 non-null   object\n",
            " 8   Phone 2            1000 non-null   object\n",
            " 9   Email              1000 non-null   object\n",
            " 10  Subscription Date  1000 non-null   object\n",
            " 11  Website            1000 non-null   object\n",
            "dtypes: int64(1), object(11)\n",
            "memory usage: 93.9+ KB\n"
          ]
        }
      ]
    },
    {
      "cell_type": "code",
      "source": [
        "df.shape #identify no. of rows and columns"
      ],
      "metadata": {
        "colab": {
          "base_uri": "https://localhost:8080/"
        },
        "id": "QiyYVyPOCf3U",
        "outputId": "9216687f-c91b-4ced-ea3a-f783aca4084d"
      },
      "execution_count": null,
      "outputs": [
        {
          "output_type": "execute_result",
          "data": {
            "text/plain": [
              "(1000, 12)"
            ]
          },
          "metadata": {},
          "execution_count": 5
        }
      ]
    },
    {
      "cell_type": "code",
      "source": [
        "df.head()"
      ],
      "metadata": {
        "colab": {
          "base_uri": "https://localhost:8080/",
          "height": 365
        },
        "id": "T-0LSa0QDJMP",
        "outputId": "2e34c291-83c8-4c80-bdb6-190037f9320c"
      },
      "execution_count": null,
      "outputs": [
        {
          "output_type": "execute_result",
          "data": {
            "text/plain": [
              "   Index      Customer Id First Name Last Name                      Company  \\\n",
              "0      1  dE014d010c7ab0c     Andrew   Goodman                Stewart-Flynn   \n",
              "1      2  2B54172c8b65eC3      Alvin      Lane  Terry, Proctor and Lawrence   \n",
              "2      3  d794Dd48988d2ac      Jenna   Harding                 Bailey Group   \n",
              "3      4  3b3Aa4aCc68f3Be   Fernando      Ford                 Moss-Maxwell   \n",
              "4      5  D60df62ad2ae41E       Kara     Woods              Mccarthy-Kelley   \n",
              "\n",
              "               City           Country                Phone 1  \\\n",
              "0       Rowlandberg             Macao      846-790-4623x4715   \n",
              "1          Bethside  Papua New Guinea     124-597-8652x05682   \n",
              "2      Moniquemouth             China     (335)987-3085x3780   \n",
              "3        Leeborough             Macao          (047)752-3122   \n",
              "4  Port Jacksonland             Nepal  +1-360-693-4419x19272   \n",
              "\n",
              "               Phone 2                          Email Subscription Date  \\\n",
              "0  (422)787-2331x71127  marieyates@gomez-spencer.info        2021-07-26   \n",
              "1    321.441.0588x6218          alexandra86@mccoy.com        2021-06-24   \n",
              "2     001-680-204-8312        justincurtis@pierce.org        2020-04-05   \n",
              "3    048.779.5035x9122            adeleon@hubbard.org        2020-11-29   \n",
              "4         163-627-2565          jesus90@roberson.info        2022-04-22   \n",
              "\n",
              "                       Website  \n",
              "0         http://www.shea.biz/  \n",
              "1    http://www.pena-cole.com/  \n",
              "2  http://www.booth-reese.biz/  \n",
              "3       http://www.hebert.com/  \n",
              "4          http://merritt.com/  "
            ],
            "text/html": [
              "\n",
              "  <div id=\"df-36fdb4fc-2490-419a-8760-7eca96f46301\" class=\"colab-df-container\">\n",
              "    <div>\n",
              "<style scoped>\n",
              "    .dataframe tbody tr th:only-of-type {\n",
              "        vertical-align: middle;\n",
              "    }\n",
              "\n",
              "    .dataframe tbody tr th {\n",
              "        vertical-align: top;\n",
              "    }\n",
              "\n",
              "    .dataframe thead th {\n",
              "        text-align: right;\n",
              "    }\n",
              "</style>\n",
              "<table border=\"1\" class=\"dataframe\">\n",
              "  <thead>\n",
              "    <tr style=\"text-align: right;\">\n",
              "      <th></th>\n",
              "      <th>Index</th>\n",
              "      <th>Customer Id</th>\n",
              "      <th>First Name</th>\n",
              "      <th>Last Name</th>\n",
              "      <th>Company</th>\n",
              "      <th>City</th>\n",
              "      <th>Country</th>\n",
              "      <th>Phone 1</th>\n",
              "      <th>Phone 2</th>\n",
              "      <th>Email</th>\n",
              "      <th>Subscription Date</th>\n",
              "      <th>Website</th>\n",
              "    </tr>\n",
              "  </thead>\n",
              "  <tbody>\n",
              "    <tr>\n",
              "      <th>0</th>\n",
              "      <td>1</td>\n",
              "      <td>dE014d010c7ab0c</td>\n",
              "      <td>Andrew</td>\n",
              "      <td>Goodman</td>\n",
              "      <td>Stewart-Flynn</td>\n",
              "      <td>Rowlandberg</td>\n",
              "      <td>Macao</td>\n",
              "      <td>846-790-4623x4715</td>\n",
              "      <td>(422)787-2331x71127</td>\n",
              "      <td>marieyates@gomez-spencer.info</td>\n",
              "      <td>2021-07-26</td>\n",
              "      <td>http://www.shea.biz/</td>\n",
              "    </tr>\n",
              "    <tr>\n",
              "      <th>1</th>\n",
              "      <td>2</td>\n",
              "      <td>2B54172c8b65eC3</td>\n",
              "      <td>Alvin</td>\n",
              "      <td>Lane</td>\n",
              "      <td>Terry, Proctor and Lawrence</td>\n",
              "      <td>Bethside</td>\n",
              "      <td>Papua New Guinea</td>\n",
              "      <td>124-597-8652x05682</td>\n",
              "      <td>321.441.0588x6218</td>\n",
              "      <td>alexandra86@mccoy.com</td>\n",
              "      <td>2021-06-24</td>\n",
              "      <td>http://www.pena-cole.com/</td>\n",
              "    </tr>\n",
              "    <tr>\n",
              "      <th>2</th>\n",
              "      <td>3</td>\n",
              "      <td>d794Dd48988d2ac</td>\n",
              "      <td>Jenna</td>\n",
              "      <td>Harding</td>\n",
              "      <td>Bailey Group</td>\n",
              "      <td>Moniquemouth</td>\n",
              "      <td>China</td>\n",
              "      <td>(335)987-3085x3780</td>\n",
              "      <td>001-680-204-8312</td>\n",
              "      <td>justincurtis@pierce.org</td>\n",
              "      <td>2020-04-05</td>\n",
              "      <td>http://www.booth-reese.biz/</td>\n",
              "    </tr>\n",
              "    <tr>\n",
              "      <th>3</th>\n",
              "      <td>4</td>\n",
              "      <td>3b3Aa4aCc68f3Be</td>\n",
              "      <td>Fernando</td>\n",
              "      <td>Ford</td>\n",
              "      <td>Moss-Maxwell</td>\n",
              "      <td>Leeborough</td>\n",
              "      <td>Macao</td>\n",
              "      <td>(047)752-3122</td>\n",
              "      <td>048.779.5035x9122</td>\n",
              "      <td>adeleon@hubbard.org</td>\n",
              "      <td>2020-11-29</td>\n",
              "      <td>http://www.hebert.com/</td>\n",
              "    </tr>\n",
              "    <tr>\n",
              "      <th>4</th>\n",
              "      <td>5</td>\n",
              "      <td>D60df62ad2ae41E</td>\n",
              "      <td>Kara</td>\n",
              "      <td>Woods</td>\n",
              "      <td>Mccarthy-Kelley</td>\n",
              "      <td>Port Jacksonland</td>\n",
              "      <td>Nepal</td>\n",
              "      <td>+1-360-693-4419x19272</td>\n",
              "      <td>163-627-2565</td>\n",
              "      <td>jesus90@roberson.info</td>\n",
              "      <td>2022-04-22</td>\n",
              "      <td>http://merritt.com/</td>\n",
              "    </tr>\n",
              "  </tbody>\n",
              "</table>\n",
              "</div>\n",
              "    <div class=\"colab-df-buttons\">\n",
              "\n",
              "  <div class=\"colab-df-container\">\n",
              "    <button class=\"colab-df-convert\" onclick=\"convertToInteractive('df-36fdb4fc-2490-419a-8760-7eca96f46301')\"\n",
              "            title=\"Convert this dataframe to an interactive table.\"\n",
              "            style=\"display:none;\">\n",
              "\n",
              "  <svg xmlns=\"http://www.w3.org/2000/svg\" height=\"24px\" viewBox=\"0 -960 960 960\">\n",
              "    <path d=\"M120-120v-720h720v720H120Zm60-500h600v-160H180v160Zm220 220h160v-160H400v160Zm0 220h160v-160H400v160ZM180-400h160v-160H180v160Zm440 0h160v-160H620v160ZM180-180h160v-160H180v160Zm440 0h160v-160H620v160Z\"/>\n",
              "  </svg>\n",
              "    </button>\n",
              "\n",
              "  <style>\n",
              "    .colab-df-container {\n",
              "      display:flex;\n",
              "      gap: 12px;\n",
              "    }\n",
              "\n",
              "    .colab-df-convert {\n",
              "      background-color: #E8F0FE;\n",
              "      border: none;\n",
              "      border-radius: 50%;\n",
              "      cursor: pointer;\n",
              "      display: none;\n",
              "      fill: #1967D2;\n",
              "      height: 32px;\n",
              "      padding: 0 0 0 0;\n",
              "      width: 32px;\n",
              "    }\n",
              "\n",
              "    .colab-df-convert:hover {\n",
              "      background-color: #E2EBFA;\n",
              "      box-shadow: 0px 1px 2px rgba(60, 64, 67, 0.3), 0px 1px 3px 1px rgba(60, 64, 67, 0.15);\n",
              "      fill: #174EA6;\n",
              "    }\n",
              "\n",
              "    .colab-df-buttons div {\n",
              "      margin-bottom: 4px;\n",
              "    }\n",
              "\n",
              "    [theme=dark] .colab-df-convert {\n",
              "      background-color: #3B4455;\n",
              "      fill: #D2E3FC;\n",
              "    }\n",
              "\n",
              "    [theme=dark] .colab-df-convert:hover {\n",
              "      background-color: #434B5C;\n",
              "      box-shadow: 0px 1px 3px 1px rgba(0, 0, 0, 0.15);\n",
              "      filter: drop-shadow(0px 1px 2px rgba(0, 0, 0, 0.3));\n",
              "      fill: #FFFFFF;\n",
              "    }\n",
              "  </style>\n",
              "\n",
              "    <script>\n",
              "      const buttonEl =\n",
              "        document.querySelector('#df-36fdb4fc-2490-419a-8760-7eca96f46301 button.colab-df-convert');\n",
              "      buttonEl.style.display =\n",
              "        google.colab.kernel.accessAllowed ? 'block' : 'none';\n",
              "\n",
              "      async function convertToInteractive(key) {\n",
              "        const element = document.querySelector('#df-36fdb4fc-2490-419a-8760-7eca96f46301');\n",
              "        const dataTable =\n",
              "          await google.colab.kernel.invokeFunction('convertToInteractive',\n",
              "                                                    [key], {});\n",
              "        if (!dataTable) return;\n",
              "\n",
              "        const docLinkHtml = 'Like what you see? Visit the ' +\n",
              "          '<a target=\"_blank\" href=https://colab.research.google.com/notebooks/data_table.ipynb>data table notebook</a>'\n",
              "          + ' to learn more about interactive tables.';\n",
              "        element.innerHTML = '';\n",
              "        dataTable['output_type'] = 'display_data';\n",
              "        await google.colab.output.renderOutput(dataTable, element);\n",
              "        const docLink = document.createElement('div');\n",
              "        docLink.innerHTML = docLinkHtml;\n",
              "        element.appendChild(docLink);\n",
              "      }\n",
              "    </script>\n",
              "  </div>\n",
              "\n",
              "\n",
              "<div id=\"df-d9057c21-a858-4dfe-bdbb-4db456f6b1b3\">\n",
              "  <button class=\"colab-df-quickchart\" onclick=\"quickchart('df-d9057c21-a858-4dfe-bdbb-4db456f6b1b3')\"\n",
              "            title=\"Suggest charts\"\n",
              "            style=\"display:none;\">\n",
              "\n",
              "<svg xmlns=\"http://www.w3.org/2000/svg\" height=\"24px\"viewBox=\"0 0 24 24\"\n",
              "     width=\"24px\">\n",
              "    <g>\n",
              "        <path d=\"M19 3H5c-1.1 0-2 .9-2 2v14c0 1.1.9 2 2 2h14c1.1 0 2-.9 2-2V5c0-1.1-.9-2-2-2zM9 17H7v-7h2v7zm4 0h-2V7h2v10zm4 0h-2v-4h2v4z\"/>\n",
              "    </g>\n",
              "</svg>\n",
              "  </button>\n",
              "\n",
              "<style>\n",
              "  .colab-df-quickchart {\n",
              "      --bg-color: #E8F0FE;\n",
              "      --fill-color: #1967D2;\n",
              "      --hover-bg-color: #E2EBFA;\n",
              "      --hover-fill-color: #174EA6;\n",
              "      --disabled-fill-color: #AAA;\n",
              "      --disabled-bg-color: #DDD;\n",
              "  }\n",
              "\n",
              "  [theme=dark] .colab-df-quickchart {\n",
              "      --bg-color: #3B4455;\n",
              "      --fill-color: #D2E3FC;\n",
              "      --hover-bg-color: #434B5C;\n",
              "      --hover-fill-color: #FFFFFF;\n",
              "      --disabled-bg-color: #3B4455;\n",
              "      --disabled-fill-color: #666;\n",
              "  }\n",
              "\n",
              "  .colab-df-quickchart {\n",
              "    background-color: var(--bg-color);\n",
              "    border: none;\n",
              "    border-radius: 50%;\n",
              "    cursor: pointer;\n",
              "    display: none;\n",
              "    fill: var(--fill-color);\n",
              "    height: 32px;\n",
              "    padding: 0;\n",
              "    width: 32px;\n",
              "  }\n",
              "\n",
              "  .colab-df-quickchart:hover {\n",
              "    background-color: var(--hover-bg-color);\n",
              "    box-shadow: 0 1px 2px rgba(60, 64, 67, 0.3), 0 1px 3px 1px rgba(60, 64, 67, 0.15);\n",
              "    fill: var(--button-hover-fill-color);\n",
              "  }\n",
              "\n",
              "  .colab-df-quickchart-complete:disabled,\n",
              "  .colab-df-quickchart-complete:disabled:hover {\n",
              "    background-color: var(--disabled-bg-color);\n",
              "    fill: var(--disabled-fill-color);\n",
              "    box-shadow: none;\n",
              "  }\n",
              "\n",
              "  .colab-df-spinner {\n",
              "    border: 2px solid var(--fill-color);\n",
              "    border-color: transparent;\n",
              "    border-bottom-color: var(--fill-color);\n",
              "    animation:\n",
              "      spin 1s steps(1) infinite;\n",
              "  }\n",
              "\n",
              "  @keyframes spin {\n",
              "    0% {\n",
              "      border-color: transparent;\n",
              "      border-bottom-color: var(--fill-color);\n",
              "      border-left-color: var(--fill-color);\n",
              "    }\n",
              "    20% {\n",
              "      border-color: transparent;\n",
              "      border-left-color: var(--fill-color);\n",
              "      border-top-color: var(--fill-color);\n",
              "    }\n",
              "    30% {\n",
              "      border-color: transparent;\n",
              "      border-left-color: var(--fill-color);\n",
              "      border-top-color: var(--fill-color);\n",
              "      border-right-color: var(--fill-color);\n",
              "    }\n",
              "    40% {\n",
              "      border-color: transparent;\n",
              "      border-right-color: var(--fill-color);\n",
              "      border-top-color: var(--fill-color);\n",
              "    }\n",
              "    60% {\n",
              "      border-color: transparent;\n",
              "      border-right-color: var(--fill-color);\n",
              "    }\n",
              "    80% {\n",
              "      border-color: transparent;\n",
              "      border-right-color: var(--fill-color);\n",
              "      border-bottom-color: var(--fill-color);\n",
              "    }\n",
              "    90% {\n",
              "      border-color: transparent;\n",
              "      border-bottom-color: var(--fill-color);\n",
              "    }\n",
              "  }\n",
              "</style>\n",
              "\n",
              "  <script>\n",
              "    async function quickchart(key) {\n",
              "      const quickchartButtonEl =\n",
              "        document.querySelector('#' + key + ' button');\n",
              "      quickchartButtonEl.disabled = true;  // To prevent multiple clicks.\n",
              "      quickchartButtonEl.classList.add('colab-df-spinner');\n",
              "      try {\n",
              "        const charts = await google.colab.kernel.invokeFunction(\n",
              "            'suggestCharts', [key], {});\n",
              "      } catch (error) {\n",
              "        console.error('Error during call to suggestCharts:', error);\n",
              "      }\n",
              "      quickchartButtonEl.classList.remove('colab-df-spinner');\n",
              "      quickchartButtonEl.classList.add('colab-df-quickchart-complete');\n",
              "    }\n",
              "    (() => {\n",
              "      let quickchartButtonEl =\n",
              "        document.querySelector('#df-d9057c21-a858-4dfe-bdbb-4db456f6b1b3 button');\n",
              "      quickchartButtonEl.style.display =\n",
              "        google.colab.kernel.accessAllowed ? 'block' : 'none';\n",
              "    })();\n",
              "  </script>\n",
              "</div>\n",
              "\n",
              "    </div>\n",
              "  </div>\n"
            ],
            "application/vnd.google.colaboratory.intrinsic+json": {
              "type": "dataframe",
              "variable_name": "df",
              "summary": "{\n  \"name\": \"df\",\n  \"rows\": 1000,\n  \"fields\": [\n    {\n      \"column\": \"Index\",\n      \"properties\": {\n        \"dtype\": \"number\",\n        \"std\": 288,\n        \"min\": 1,\n        \"max\": 1000,\n        \"num_unique_values\": 1000,\n        \"samples\": [\n          522,\n          738,\n          741\n        ],\n        \"semantic_type\": \"\",\n        \"description\": \"\"\n      }\n    },\n    {\n      \"column\": \"Customer Id\",\n      \"properties\": {\n        \"dtype\": \"string\",\n        \"num_unique_values\": 1000,\n        \"samples\": [\n          \"666bAC9090ca824\",\n          \"Ae9Cd0e71d62d03\",\n          \"D39B2f3649fA9dF\"\n        ],\n        \"semantic_type\": \"\",\n        \"description\": \"\"\n      }\n    },\n    {\n      \"column\": \"First Name\",\n      \"properties\": {\n        \"dtype\": \"string\",\n        \"num_unique_values\": 536,\n        \"samples\": [\n          \"Joanne\",\n          \"Paige\",\n          \"Breanna\"\n        ],\n        \"semantic_type\": \"\",\n        \"description\": \"\"\n      }\n    },\n    {\n      \"column\": \"Last Name\",\n      \"properties\": {\n        \"dtype\": \"string\",\n        \"num_unique_values\": 622,\n        \"samples\": [\n          \"Pope\",\n          \"Sloan\",\n          \"Horton\"\n        ],\n        \"semantic_type\": \"\",\n        \"description\": \"\"\n      }\n    },\n    {\n      \"column\": \"Company\",\n      \"properties\": {\n        \"dtype\": \"string\",\n        \"num_unique_values\": 992,\n        \"samples\": [\n          \"Young-Sawyer\",\n          \"Adkins and Sons\",\n          \"Lane and Sons\"\n        ],\n        \"semantic_type\": \"\",\n        \"description\": \"\"\n      }\n    },\n    {\n      \"column\": \"City\",\n      \"properties\": {\n        \"dtype\": \"string\",\n        \"num_unique_values\": 983,\n        \"samples\": [\n          \"Briannaland\",\n          \"Lake Tannerside\",\n          \"New Brettmouth\"\n        ],\n        \"semantic_type\": \"\",\n        \"description\": \"\"\n      }\n    },\n    {\n      \"column\": \"Country\",\n      \"properties\": {\n        \"dtype\": \"category\",\n        \"num_unique_values\": 240,\n        \"samples\": [\n          \"Bouvet Island (Bouvetoya)\",\n          \"Fiji\",\n          \"Aruba\"\n        ],\n        \"semantic_type\": \"\",\n        \"description\": \"\"\n      }\n    },\n    {\n      \"column\": \"Phone 1\",\n      \"properties\": {\n        \"dtype\": \"string\",\n        \"num_unique_values\": 1000,\n        \"samples\": [\n          \"001-670-136-2445x2162\",\n          \"725-149-0412x68802\",\n          \"119-263-4993x0315\"\n        ],\n        \"semantic_type\": \"\",\n        \"description\": \"\"\n      }\n    },\n    {\n      \"column\": \"Phone 2\",\n      \"properties\": {\n        \"dtype\": \"string\",\n        \"num_unique_values\": 1000,\n        \"samples\": [\n          \"001-670-432-0447x3507\",\n          \"+1-283-624-3792\",\n          \"5924784399\"\n        ],\n        \"semantic_type\": \"\",\n        \"description\": \"\"\n      }\n    },\n    {\n      \"column\": \"Email\",\n      \"properties\": {\n        \"dtype\": \"string\",\n        \"num_unique_values\": 1000,\n        \"samples\": [\n          \"rblack@benson.com\",\n          \"aprillewis@pham-tanner.com\",\n          \"rmartinez@huber-larsen.info\"\n        ],\n        \"semantic_type\": \"\",\n        \"description\": \"\"\n      }\n    },\n    {\n      \"column\": \"Subscription Date\",\n      \"properties\": {\n        \"dtype\": \"date\",\n        \"min\": \"2020-01-01 00:00:00\",\n        \"max\": \"2022-05-29 00:00:00\",\n        \"num_unique_values\": 608,\n        \"samples\": [\n          \"2021-01-12 00:00:00\",\n          \"2021-04-26 00:00:00\",\n          \"2020-05-21 00:00:00\"\n        ],\n        \"semantic_type\": \"\",\n        \"description\": \"\"\n      }\n    },\n    {\n      \"column\": \"Website\",\n      \"properties\": {\n        \"dtype\": \"string\",\n        \"num_unique_values\": 973,\n        \"samples\": [\n          \"https://www.nolan.com/\",\n          \"https://www.townsend.com/\",\n          \"https://www.mahoney.org/\"\n        ],\n        \"semantic_type\": \"\",\n        \"description\": \"\"\n      }\n    }\n  ]\n}"
            }
          },
          "metadata": {},
          "execution_count": 8
        }
      ]
    },
    {
      "cell_type": "code",
      "source": [
        "# Convert 'Subscription Date' to datetime\n",
        "df['Subscription Date'] = pd.to_datetime(df['Subscription Date'], errors='coerce')"
      ],
      "metadata": {
        "id": "cbJlnMqNC4XR"
      },
      "execution_count": null,
      "outputs": []
    },
    {
      "cell_type": "code",
      "source": [
        "# Drop 'Index' as it's redundant\n",
        "df_cleaned = df.drop(columns=['Index'])"
      ],
      "metadata": {
        "id": "SVmLIqluDDUH"
      },
      "execution_count": null,
      "outputs": []
    },
    {
      "cell_type": "code",
      "source": [
        "for col in df_cleaned.select_dtypes(include='object').columns:\n",
        "  df_cleaned[col] = df_cleaned[col].str.strip()"
      ],
      "metadata": {
        "id": "gU4Gep0XDTeu"
      },
      "execution_count": null,
      "outputs": []
    },
    {
      "cell_type": "code",
      "source": [
        "# Convert emails and websites to lowercase\n",
        "df_cleaned['Email'] = df_cleaned['Email'].str.lower()\n",
        "df_cleaned['Website'] = df_cleaned['Website'].str.lower()"
      ],
      "metadata": {
        "id": "fwEfpaMCEq4_"
      },
      "execution_count": null,
      "outputs": []
    },
    {
      "cell_type": "code",
      "source": [
        "# Drop duplicates if any\n",
        "df_cleaned = df_cleaned.drop_duplicates()"
      ],
      "metadata": {
        "id": "E0P-oRmUFjLx"
      },
      "execution_count": null,
      "outputs": []
    },
    {
      "cell_type": "code",
      "source": [
        "# Save the cleaned data to a new CSV\n",
        "df_cleaned.to_csv('customers-1000-cleaned.csv', index=False)"
      ],
      "metadata": {
        "id": "wAg4EUZYFsi8"
      },
      "execution_count": null,
      "outputs": []
    }
  ]
}